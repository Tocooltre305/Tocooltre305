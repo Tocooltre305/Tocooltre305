{
  "nbformat": 4,
  "nbformat_minor": 0,
  "metadata": {
    "colab": {
      "provenance": [],
      "authorship_tag": "ABX9TyOjSuJBsgay0YrzBLs0SyxX",
      "include_colab_link": true
    },
    "kernelspec": {
      "name": "python3",
      "display_name": "Python 3"
    },
    "language_info": {
      "name": "python"
    }
  },
  "cells": [
    {
      "cell_type": "markdown",
      "metadata": {
        "id": "view-in-github",
        "colab_type": "text"
      },
      "source": [
        "<a href=\"https://colab.research.google.com/github/Tocooltre305/Tocooltre305/blob/main/Rock%2CPaper%2C_Scissors_Game.ipynb\" target=\"_parent\"><img src=\"https://colab.research.google.com/assets/colab-badge.svg\" alt=\"Open In Colab\"/></a>"
      ]
    },
    {
      "cell_type": "code",
      "source": [
        "# Importing the random module to allow the computer to pick rock, paper, or scissors randomly\n",
        "import random\n",
        "\n",
        "# Function that runs the Rock, Paper, Scissors game\n",
        "def play_game():\n",
        "    # List of possible choices in the game\n",
        "    choices = [\"rock\", \"paper\", \"scissors\"]\n",
        "\n",
        ""
      ],
      "metadata": {
        "id": "gsWXRd8vUqed"
      },
      "execution_count": 8,
      "outputs": []
    },
    {
      "cell_type": "code",
      "source": [
        "# Scores initialized to 0 for both player and computer\n",
        "player_score = 0\n",
        "computer_score = 0\n",
        "\n",
        "# Ask player how many rounds they want to play\n",
        "rounds = int(input(\"How many rounds would you like to play? \"))\n",
        "\n",
        "# Loop runs the game for the number of rounds the player chooses\n",
        "for round_num in range(1, rounds + 1):\n",
        "    print(f\"\\n--- Round {round_num} ---\")\n",
        ""
      ],
      "metadata": {
        "colab": {
          "base_uri": "https://localhost:8080/"
        },
        "id": "XlDIP6X2Uu4X",
        "outputId": "1875676d-a86f-4703-9ccb-5c7a4496d8dc"
      },
      "execution_count": 9,
      "outputs": [
        {
          "output_type": "stream",
          "name": "stdout",
          "text": [
            "How many rounds would you like to play? 2\n",
            "\n",
            "--- Round 1 ---\n",
            "\n",
            "--- Round 2 ---\n"
          ]
        }
      ]
    },
    {
      "cell_type": "code",
      "source": [
        "# Player makes a choice\n",
        "player_choice = input(\"Choose rock, paper, or scissors: \").lower()\n",
        "\n",
        "# If player chooses something not in choices, it asks again\n",
        "while player_choice not in choices:\n",
        "  player_choice = input(\"Invalid choice! Please choose rock, paper, or scissors: \").lower()\n",
        "\n",
        "# Computer makes a random choice from the choices list\n",
        "  computer_choice = random.choice(choices)\n",
        "  print(f\"The computer chose: {computer_choices}\")\n"
      ],
      "metadata": {
        "colab": {
          "base_uri": "https://localhost:8080/",
          "height": 228
        },
        "id": "N-60haQ9U09X",
        "outputId": "f65126ef-dac2-41bc-804f-8c091dcc964a"
      },
      "execution_count": 10,
      "outputs": [
        {
          "name": "stdout",
          "output_type": "stream",
          "text": [
            "Choose rock, paper, or scissors: paper\n"
          ]
        },
        {
          "output_type": "error",
          "ename": "NameError",
          "evalue": "name 'choices' is not defined",
          "traceback": [
            "\u001b[0;31m---------------------------------------------------------------------------\u001b[0m",
            "\u001b[0;31mNameError\u001b[0m                                 Traceback (most recent call last)",
            "\u001b[0;32m<ipython-input-10-c92a384170f9>\u001b[0m in \u001b[0;36m<cell line: 5>\u001b[0;34m()\u001b[0m\n\u001b[1;32m      3\u001b[0m \u001b[0;34m\u001b[0m\u001b[0m\n\u001b[1;32m      4\u001b[0m \u001b[0;31m# If player chooses something not in choices, it asks again\u001b[0m\u001b[0;34m\u001b[0m\u001b[0;34m\u001b[0m\u001b[0m\n\u001b[0;32m----> 5\u001b[0;31m \u001b[0;32mwhile\u001b[0m \u001b[0mplayer_choice\u001b[0m \u001b[0;32mnot\u001b[0m \u001b[0;32min\u001b[0m \u001b[0mchoices\u001b[0m\u001b[0;34m:\u001b[0m\u001b[0;34m\u001b[0m\u001b[0;34m\u001b[0m\u001b[0m\n\u001b[0m\u001b[1;32m      6\u001b[0m   \u001b[0mplayer_choice\u001b[0m \u001b[0;34m=\u001b[0m \u001b[0minput\u001b[0m\u001b[0;34m(\u001b[0m\u001b[0;34m\"Invalid choice! Please choose rock, paper, or scissors: \"\u001b[0m\u001b[0;34m)\u001b[0m\u001b[0;34m.\u001b[0m\u001b[0mlower\u001b[0m\u001b[0;34m(\u001b[0m\u001b[0;34m)\u001b[0m\u001b[0;34m\u001b[0m\u001b[0;34m\u001b[0m\u001b[0m\n\u001b[1;32m      7\u001b[0m \u001b[0;34m\u001b[0m\u001b[0m\n",
            "\u001b[0;31mNameError\u001b[0m: name 'choices' is not defined"
          ]
        }
      ]
    },
    {
      "cell_type": "code",
      "source": [
        "# Importing the random module to allow the computer to pick rock, paper, or scissors randomly\n",
        "import random\n",
        "\n",
        "# Function that runs the Rock, Paper, Scissors game\n",
        "def play_game():\n",
        "    # List of possible choices in the game\n",
        "    choices = [\"rock\", \"paper\", \"scissors\"]\n",
        "\n",
        "    # Scores initialized to 0 for both player and computer\n",
        "    player_score = 0\n",
        "    computer_score = 0\n",
        "\n",
        "    # Ask player how many rounds they want to play\n",
        "    rounds = int(input(\"How many rounds would you like to play? \"))\n",
        "\n",
        "    # Loop runs the game for the number of rounds the player chooses\n",
        "    for round_num in range(1, rounds + 1):\n",
        "        print(f\"\\n--- Round {round_num} ---\")\n",
        "\n",
        "        # Player makes a choice\n",
        "        player_choice = input(\"Choose rock, paper, or scissors: \").lower()\n",
        "\n",
        "        # If player chooses something not in choices, it asks again\n",
        "        while player_choice not in choices:\n",
        "            player_choice = input(\"Invalid choice! Please choose rock, paper, or scissors: \").lower()\n",
        "\n",
        "        # Computer makes a random choice from the choices list\n",
        "        computer_choice = random.choice(choices)\n",
        "        print(f\"The computer chose: {computer_choice}\")\n",
        "\n",
        "        # Compare player and computer choices to determine the winner\n",
        "        if player_choice == computer_choice:\n",
        "            print(\"It's a tie!\")\n",
        "        elif (player_choice == \"rock\" and computer_choice == \"scissors\") or \\\n",
        "             (player_choice == \"paper\" and computer_choice == \"rock\") or \\\n",
        "             (player_choice == \"scissors\" and computer_choice == \"paper\"):\n",
        "            print(\"You win this round!\")\n",
        "            player_score += 1  # Player gets 1 point\n",
        "        else:\n",
        "            print(\"Computer wins this round!\")\n",
        "            computer_score += 1  # Computer gets 1 point\n",
        "\n",
        "        # Show the scores after each round\n",
        "        print(f\"Score: You {player_score} - {computer_score} Computer\")\n",
        "\n",
        "    # Determine the overall winner after all rounds\n",
        "    print(\"\\n--- Game Over ---\")\n",
        "    if player_score > computer_score:\n",
        "        print(f\"Congratulations! You won the game with a score of {player_score}!\")\n",
        "    elif player_score < computer_score:\n",
        "        print(f\"Sorry, the computer won the game with a score of {computer_score}.\")\n",
        "    else:\n",
        "        print(\"It's a tie game!\")\n",
        "\n",
        "# Main function to start the game\n",
        "if __name__ == \"__main__\":\n",
        "    play_game()\n"
      ],
      "metadata": {
        "colab": {
          "base_uri": "https://localhost:8080/"
        },
        "id": "H-wjp0pUWbh2",
        "outputId": "955330fe-adc3-456c-90d5-3340b02636aa"
      },
      "execution_count": 11,
      "outputs": [
        {
          "output_type": "stream",
          "name": "stdout",
          "text": [
            "How many rounds would you like to play? 10\n",
            "\n",
            "--- Round 1 ---\n",
            "Choose rock, paper, or scissors: rock\n",
            "The computer chose: paper\n",
            "Computer wins this round!\n",
            "Score: You 0 - 1 Computer\n",
            "\n",
            "--- Round 2 ---\n",
            "Choose rock, paper, or scissors: scissors\n",
            "The computer chose: rock\n",
            "Computer wins this round!\n",
            "Score: You 0 - 2 Computer\n",
            "\n",
            "--- Round 3 ---\n",
            "Choose rock, paper, or scissors: paper\n",
            "The computer chose: scissors\n",
            "Computer wins this round!\n",
            "Score: You 0 - 3 Computer\n",
            "\n",
            "--- Round 4 ---\n",
            "Choose rock, paper, or scissors: paper\n",
            "The computer chose: scissors\n",
            "Computer wins this round!\n",
            "Score: You 0 - 4 Computer\n",
            "\n",
            "--- Round 5 ---\n",
            "Choose rock, paper, or scissors: rock\n",
            "The computer chose: scissors\n",
            "You win this round!\n",
            "Score: You 1 - 4 Computer\n",
            "\n",
            "--- Round 6 ---\n",
            "Choose rock, paper, or scissors: rock\n",
            "The computer chose: scissors\n",
            "You win this round!\n",
            "Score: You 2 - 4 Computer\n",
            "\n",
            "--- Round 7 ---\n",
            "Choose rock, paper, or scissors: scissors\n",
            "The computer chose: paper\n",
            "You win this round!\n",
            "Score: You 3 - 4 Computer\n",
            "\n",
            "--- Round 8 ---\n",
            "Choose rock, paper, or scissors: gyatt\n",
            "Invalid choice! Please choose rock, paper, or scissors: rock\n",
            "The computer chose: paper\n",
            "Computer wins this round!\n",
            "Score: You 3 - 5 Computer\n",
            "\n",
            "--- Round 9 ---\n",
            "Choose rock, paper, or scissors: rock\n",
            "The computer chose: rock\n",
            "It's a tie!\n",
            "Score: You 3 - 5 Computer\n",
            "\n",
            "--- Round 10 ---\n",
            "Choose rock, paper, or scissors: paper\n",
            "The computer chose: rock\n",
            "You win this round!\n",
            "Score: You 4 - 5 Computer\n",
            "\n",
            "--- Game Over ---\n",
            "Sorry, the computer won the game with a score of 5.\n"
          ]
        }
      ]
    }
  ]
}