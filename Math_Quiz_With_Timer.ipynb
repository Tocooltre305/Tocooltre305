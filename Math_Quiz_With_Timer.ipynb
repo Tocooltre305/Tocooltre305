{
  "nbformat": 4,
  "nbformat_minor": 0,
  "metadata": {
    "colab": {
      "provenance": [],
      "authorship_tag": "ABX9TyPsXN5KuXL6XBJbIYywvSYW",
      "include_colab_link": true
    },
    "kernelspec": {
      "name": "python3",
      "display_name": "Python 3"
    },
    "language_info": {
      "name": "python"
    }
  },
  "cells": [
    {
      "cell_type": "markdown",
      "metadata": {
        "id": "view-in-github",
        "colab_type": "text"
      },
      "source": [
        "<a href=\"https://colab.research.google.com/github/Tocooltre305/Tocooltre305/blob/main/Math_Quiz_With_Timer.ipynb\" target=\"_parent\"><img src=\"https://colab.research.google.com/assets/colab-badge.svg\" alt=\"Open In Colab\"/></a>"
      ]
    },
    {
      "cell_type": "code",
      "source": [
        "\n",
        "import random\n",
        "import time\n"
      ],
      "metadata": {
        "id": "srGQR66FNjy0"
      },
      "execution_count": 25,
      "outputs": []
    },
    {
      "cell_type": "code",
      "source": [
        "def generate_question():\n",
        "\n",
        "  #List of the math operations to choose from\n",
        "    operations = ['+', '-', '*']\n",
        "\n",
        "  #randomly pick an operation\n",
        "    operation = random.choice(operations)\n",
        "\n",
        "#generate two random numbers between 1 and 1000\n",
        "    num1 = random.randint(1,100)\n",
        "    num2 = random.randint(1,100)\n",
        "    if operation == '+':\n",
        "      correct_answer = num1 + num2\n",
        "    elif operation == '-':\n",
        "      correct_answer = num1 - num2\n",
        "    else:\n",
        "      correct_answer = num1 * num2\n",
        "    return f\"{num1} {operation} {num2}\", correct_answer\n"
      ],
      "metadata": {
        "id": "pY9xqnybRbqZ"
      },
      "execution_count": 26,
      "outputs": []
    },
    {
      "cell_type": "code",
      "source": [
        "#function to run the math problem and the right\n",
        "def math_quiz():\n",
        "  #starting score at 0\n",
        "  score = 0\n",
        "\n",
        "  #time limit for each question is 20 seconds\n",
        "  time_limit = 20\n",
        "\n",
        "  #ask how many questions the player wants to answer\n",
        "  total_questions = int(input(\"How many math problems do you want to solve? \"))\n",
        "\n",
        "  #repeat the quiz for the number of questions chosen\n",
        "  for i in range(total_questions):\n",
        "    print(f\"\\n---Question{i + 1}---\")\n",
        "\n",
        "    #create a random math problem\n",
        "    question, correct_answer = generate_question()\n",
        "\n",
        "    #show the problem\n",
        "    print(f\"Solve:{question} = \")\n",
        "\n",
        "    #start counting time\n",
        "    start_time = time.time()\n",
        " # Try to get the answer before time runs out\n",
        "    try:\n",
        "        user_answer = input_with_timeout(time_limit)\n",
        "\n",
        "        # Measure how long the answer took\n",
        "        time_taken = time.time() - start_time\n",
        "\n",
        "        # Check if they answered before time ran out and if it's correct\n",
        "        if float(time_taken) < time_limit:\n",
        "            if int(user_answer) == correct_answer:\n",
        "                print(\"Correct!\")\n",
        "                score += 1  # Add 1 point for a correct answer\n",
        "            else:\n",
        "                print(f\"Oops, the right answer is {correct_answer}.\")\n",
        "        else:\n",
        "            print(f\"Time's up! The answer is {correct_answer}.\")\n",
        "\n",
        "    except TimeoutError:\n",
        "        # If time runs out, show the correct answer\n",
        "        print(f\"Time's up! The correct answer is {correct_answer}.\")\n",
        "\n",
        "    # Show the current score\n",
        "    print(f\"Your score: {score}/{i + 1}\")\n",
        "\n",
        "    # game over , show the final score\n",
        "    print(\"\\n---Quiz Over---\")\n",
        "    print(f\"Your final score: {score}/{total_questions}\")\n",
        "    #feedback on how the player did\n",
        "    if score == total_questions:\n",
        "      print(\"Awesome! You got all the questions right!\")\n",
        "    elif score > total_questions:\n",
        "      print(\"Great job! You're almost perfect.\")\n",
        "    elif score > total_questions * 0.5:\n",
        "        print(\"Good try! Keep practicing.\")\n",
        "    else:\n",
        "      print(\"Don't give up! Practice makes perfect.\")\n",
        "\n"
      ],
      "metadata": {
        "id": "QJLToeIWTfXC"
      },
      "execution_count": 32,
      "outputs": []
    },
    {
      "cell_type": "code",
      "source": [
        "#function to handle input with  limit\n",
        "def input_with_timeout(time_limit):\n",
        "  \"\"\"Get answer from the player before the time runs out.\"\"\"\n",
        "  start_time = time.time()\n",
        "  user_input = input()\n",
        "  if time.time() - start_time > time_limit:\n",
        "    raise TimeoutError\n",
        "  return user_input\n",
        "\n",
        "#Run the game\n",
        "if __name__ == \"__main__\":\n",
        "    math_quiz()\n"
      ],
      "metadata": {
        "colab": {
          "base_uri": "https://localhost:8080/"
        },
        "id": "ojYejxpf0GgW",
        "outputId": "72840e52-16f2-4d8b-8330-f2d356dd702c"
      },
      "execution_count": 31,
      "outputs": [
        {
          "output_type": "stream",
          "name": "stdout",
          "text": [
            "How many math problems do you want to solve?1\n",
            "\n",
            "---Question1---\n",
            "Solve:80 * 15 = \n",
            "67\n",
            "Time's up! The correct answer is 1200.\n",
            "Your score: 0/1\n",
            "\n",
            "---Quiz Over---\n",
            "Your final score: 0/1\n",
            "Don't give up! Practice makes perfect.\n"
          ]
        }
      ]
    },
    {
      "cell_type": "code",
      "source": [],
      "metadata": {
        "id": "FlAdy7pghS2U"
      },
      "execution_count": null,
      "outputs": []
    }
  ]
}